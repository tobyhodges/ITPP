{
 "cells": [
  {
   "cell_type": "markdown",
   "metadata": {},
   "source": [
    "# Introduction to Python Programming"
   ]
  },
  {
   "cell_type": "markdown",
   "metadata": {},
   "source": [
    "## 3. Nested Data Structures"
   ]
  },
  {
   "cell_type": "markdown",
   "metadata": {},
   "source": [
    "You now know about the most commonly-used Python data types. There are more, each with characteristics suited to a particular task or situation and, if you like, you can make your own as well. You can see the full list of built-in data structures here: https://docs.python.org/3.5/library/stdtypes.html. You should also have an idea of the ways that you can repeat actions on lists and dictionaries with `for` loops, as well as take decisions based on data using `if` statements. This knowledge and these skills can be applied to some quite sophisticated programming. "
   ]
  },
  {
   "cell_type": "markdown",
   "metadata": {},
   "source": [
    "One other key to writing effective programs is the ability to encapsulate your data and allow them to be accessed and analysed in a way that is efficient and appropriate. If you don't take the time to consider the best way to capture, store, and access your data, you can end up writing programs that are much more complicated and error-prone than they need to be. This can cost you a lot more time in the future. As with any project, a little time spent planning at the beginning can save a lot of time later on."
   ]
  },
  {
   "cell_type": "markdown",
   "metadata": {},
   "source": [
    "#### _Warmup exercise_"
   ]
  },
  {
   "cell_type": "markdown",
   "metadata": {},
   "source": [
    "Imagine, you woke up this morning and you had several ideas for things you want to do today, each can be described by a word or a short sentence. You want to write down those ideas (store them in Python), which data type is in your opinion best suited to host all of that data?\n",
    "- an integer\n",
    "- a string\n",
    "- a list\n",
    "- a group\n",
    "- a dictionary\n",
    "- other"
   ]
  },
  {
   "cell_type": "markdown",
   "metadata": {},
   "source": [
    "[write down answer]"
   ]
  },
  {
   "cell_type": "markdown",
   "metadata": {},
   "source": [
    "After compiling your collection of all the things you want to get done today, you realized that they can and should be categorized into different projects like 'work', 'home' etc.\n",
    "Given your response to the question above, how would you store your data into multiple levels?"
   ]
  },
  {
   "cell_type": "markdown",
   "metadata": {},
   "source": [
    "[write down answer]"
   ]
  },
  {
   "cell_type": "markdown",
   "metadata": {},
   "source": [
    "#### Combining Structures"
   ]
  },
  {
   "cell_type": "markdown",
   "metadata": {},
   "source": [
    "Often, datasets are best encapsulated by combining the basic data structures together to form larger, well-organised collections that fit the characteristics of the dataset. This combination of multiple data structures is often referred to as 'nesting'. Getting used to dealing with these structures as they grow larger and more complicated can take a bit of time, but it becomes easier with practise and is very important for good programming."
   ]
  },
  {
   "cell_type": "markdown",
   "metadata": {},
   "source": [
    "To make this easier to understand, let's begin with some examples. Let's say that you teach seminars to three different groups of students, and you are writing a program that will keep track of the names of these students. For each seminar group, you could store the names in a list."
   ]
  },
  {
   "cell_type": "code",
   "execution_count": 42,
   "metadata": {},
   "outputs": [],
   "source": [
    "GroupA = ['Sarah', 'Richard', 'Matthew', 'Fiona', 'Sally', 'Samuel']\n",
    "GroupB = ['Richard', 'Sally', 'Sandy', 'Peter', 'Rebecca', 'Steve', 'Lesley', 'Stuart']\n",
    "GroupC = ['Simon', 'Laura', 'Gareth', 'Alan', 'Helen']"
   ]
  },
  {
   "cell_type": "markdown",
   "metadata": {},
   "source": [
    "Now, you might want to go through all of the names for all of the groups. You could write three loops:"
   ]
  },
  {
   "cell_type": "code",
   "execution_count": 43,
   "metadata": {
    "collapsed": false,
    "jupyter": {
     "outputs_hidden": false
    }
   },
   "outputs": [
    {
     "name": "stdout",
     "output_type": "stream",
     "text": [
      "Sarah\n",
      "Richard\n",
      "Matthew\n",
      "Fiona\n",
      "Sally\n",
      "Samuel\n"
     ]
    }
   ],
   "source": [
    "for student in GroupA:\n",
    "    print(student)"
   ]
  },
  {
   "cell_type": "code",
   "execution_count": 44,
   "metadata": {
    "collapsed": false,
    "jupyter": {
     "outputs_hidden": false
    }
   },
   "outputs": [
    {
     "name": "stdout",
     "output_type": "stream",
     "text": [
      "Richard\n",
      "Sally\n",
      "Sandy\n",
      "Peter\n",
      "Rebecca\n",
      "Steve\n",
      "Lesley\n",
      "Stuart\n"
     ]
    }
   ],
   "source": [
    "for student in GroupB:\n",
    "    print(student)"
   ]
  },
  {
   "cell_type": "code",
   "execution_count": 45,
   "metadata": {
    "collapsed": false,
    "jupyter": {
     "outputs_hidden": false
    }
   },
   "outputs": [
    {
     "name": "stdout",
     "output_type": "stream",
     "text": [
      "Simon\n",
      "Laura\n",
      "Gareth\n",
      "Alan\n",
      "Helen\n"
     ]
    }
   ],
   "source": [
    "for student in GroupC:\n",
    "    print(student)"
   ]
  },
  {
   "cell_type": "markdown",
   "metadata": {},
   "source": [
    "Teaching can be quite time-consuming at the best of times, and this is getting quite repetitive! Of course, it gets even worse if you teach even more groups, or if you are working with a larger dataset of some other kind. Instead, you could combine the lists together into a single list,"
   ]
  },
  {
   "cell_type": "code",
   "execution_count": 46,
   "metadata": {},
   "outputs": [],
   "source": [
    "AllGroups = GroupA + GroupB + GroupC"
   ]
  },
  {
   "cell_type": "markdown",
   "metadata": {},
   "source": [
    "but you might not want to lose track of which students belong to which class. So instead, it is a good idea to store the individual lists as entries in another data structure that can be processed iteratively just like the lists themselves. We have a few options here, but let's begin with a list of lists - where each entry in the list is itself another list:"
   ]
  },
  {
   "cell_type": "code",
   "execution_count": 47,
   "metadata": {},
   "outputs": [],
   "source": [
    "AllGroups = [ GroupA , GroupB , GroupC ]\n",
    "# This is equivalent to the below, but much easier to read!\n",
    "AllGroups = [ ['Sarah', 'Richard', 'Matthew', 'Fiona', 'Sally', 'Samuel'] ,\n",
    "              ['Richard', 'Sally', 'Sandy', 'Peter', 'Rebecca', 'Steve', 'Lesley', 'Stuart'] ,\n",
    "              ['Simon', 'Laura', 'Gareth', 'Alan', 'Helen'] ]"
   ]
  },
  {
   "cell_type": "markdown",
   "metadata": {},
   "source": [
    "Now, to work through all the names of all the students, we need to iterate over each entry in the top-level list `AllGroups` and, because we know that each of these entries is itself a list, iterate over the entries of this second-level list as well. As you will remember from the previous worksheet, iterating over a list can be acheived with a `for` loop. In this case, to iterate over everything in our two-level nested lists we will just use two nested `for` loops."
   ]
  },
  {
   "cell_type": "code",
   "execution_count": 48,
   "metadata": {
    "collapsed": false,
    "jupyter": {
     "outputs_hidden": false
    }
   },
   "outputs": [
    {
     "name": "stdout",
     "output_type": "stream",
     "text": [
      "Sarah\n",
      "Richard\n",
      "Matthew\n",
      "Fiona\n",
      "Sally\n",
      "Samuel\n",
      "Richard\n",
      "Sally\n",
      "Sandy\n",
      "Peter\n",
      "Rebecca\n",
      "Steve\n",
      "Lesley\n",
      "Stuart\n",
      "Simon\n",
      "Laura\n",
      "Gareth\n",
      "Alan\n",
      "Helen\n"
     ]
    }
   ],
   "source": [
    "for group in AllGroups:\n",
    "    for student in group:\n",
    "        print(student)"
   ]
  },
  {
   "cell_type": "markdown",
   "metadata": {},
   "source": [
    "Great! So now we can get a full list of our students' names, without writing an individual `for` loop for every class we teach. But we have lost some information in the process, because we can't tell by looking at the list above where the names for one class end and another begin."
   ]
  },
  {
   "cell_type": "markdown",
   "metadata": {},
   "source": [
    "#### _Exercise 3.1_"
   ]
  },
  {
   "cell_type": "markdown",
   "metadata": {},
   "source": [
    "What other combination of data structures might we use to encapsulate our class lists? Before you look at the next section, try to figure out what the best nested structure might be for this data."
   ]
  },
  {
   "cell_type": "code",
   "execution_count": 49,
   "metadata": {},
   "outputs": [],
   "source": [
    "# a dictionary would probably be a better fit for this data, as we have a class name associated with each list of students. see example below..."
   ]
  },
  {
   "cell_type": "markdown",
   "metadata": {},
   "source": [
    "#### Choosing An Appropriate Structure"
   ]
  },
  {
   "cell_type": "markdown",
   "metadata": {},
   "source": [
    "Consider what information we have for each class: it has a name (A, B, C) and a list (the student names). This sounds a lot like the kind of information that is best stored in a dictionary - we have a key (the group name) and an associated value (the list of students). So, we can combine the data into a second type of nested structure: a dictionary of lists."
   ]
  },
  {
   "cell_type": "code",
   "execution_count": 24,
   "metadata": {},
   "outputs": [],
   "source": [
    "AllGroups = { 'Group A': GroupA,\n",
    "              'Group B': GroupB,\n",
    "              'Group C': GroupC }"
   ]
  },
  {
   "cell_type": "markdown",
   "metadata": {},
   "source": [
    "Now that we have produced this dictionary, we can iterate over it, and each of the lists contained within, using a verysimilar nested `for` loop structure to the one we had before for our list of lists:"
   ]
  },
  {
   "cell_type": "code",
   "execution_count": 25,
   "metadata": {
    "collapsed": false,
    "jupyter": {
     "outputs_hidden": false
    }
   },
   "outputs": [
    {
     "name": "stdout",
     "output_type": "stream",
     "text": [
      "Group A\n",
      "Sarah\n",
      "Richard\n",
      "Matthew\n",
      "Fiona\n",
      "Sally\n",
      "Samuel\n",
      "Group B\n",
      "Richard\n",
      "Sally\n",
      "Sandy\n",
      "Peter\n",
      "Rebecca\n",
      "Steve\n",
      "Lesley\n",
      "Stuart\n",
      "Group C\n",
      "Simon\n",
      "Laura\n",
      "Gareth\n",
      "Alan\n",
      "Helen\n"
     ]
    }
   ],
   "source": [
    "for group in AllGroups.keys():\n",
    "    print(group)\n",
    "    for student in AllGroups[group]:\n",
    "        print(student)"
   ]
  },
  {
   "cell_type": "markdown",
   "metadata": {},
   "source": [
    "Things have improved a little. Now we are printing the name of the group each time we start a new one, but these group names are not in alphabetical order (unless you got lucky - remember that the order that keys are accessed from a  dictionary using `.keys()` can't be relied upon or predicted, or you're using Python 3.6) and they're quite hard to spot amongst the names of the students. To make sure that you understand what just happened, let's take a look at that code block above step-by-step."
   ]
  },
  {
   "cell_type": "markdown",
   "metadata": {},
   "source": [
    "```Python\n",
    "for group in AllGroups.keys():\n",
    "```"
   ]
  },
  {
   "cell_type": "markdown",
   "metadata": {},
   "source": [
    "Here, we create a `for` loop to iterate over every key in the dictionary `AllGroups`. Hopefully, you recognise this from the previous worksheet. At the start of each iteration in this `for` loop the value of the variable `group` will be assigned as the next key from the dictionary. "
   ]
  },
  {
   "cell_type": "markdown",
   "metadata": {},
   "source": [
    "```Python\n",
    "    print(group)\n",
    "```"
   ]
  },
  {
   "cell_type": "markdown",
   "metadata": {},
   "source": [
    "We print the group name before starting to loop through the list of student names."
   ]
  },
  {
   "cell_type": "markdown",
   "metadata": {},
   "source": [
    "```Python\n",
    "    for student in AllGroups[group]:\n",
    "```"
   ]
  },
  {
   "cell_type": "markdown",
   "metadata": {},
   "source": [
    "Now, we are defining the second `for` loop, assigning the value of the variable `student` with the name of the next student in the list for the current group. Here, remember that `AllGroups[group]` returns the value associated with the key `group` in the dictionary `AllGroups`. `group` is whichever group name we are currently dealing with in this iteration of the first for loop. That is, if the first key returned by `AllGroups.keys()` is `'Group B'`, then:\n",
    " - `group` has been assigned the value `'Group B'`,  \n",
    " - so `AllGroups[group]` is currently equivalent to `AllGroups['Group B']`,  \n",
    " - which returns the value associated with the key `'Group B'`, which is the list `GroupB`."
   ]
  },
  {
   "cell_type": "markdown",
   "metadata": {},
   "source": [
    "If you followed that, then you will understand that the last line"
   ]
  },
  {
   "cell_type": "markdown",
   "metadata": {},
   "source": [
    "```Python\n",
    "        print(student)\n",
    "```"
   ]
  },
  {
   "cell_type": "markdown",
   "metadata": {},
   "source": [
    "will print out the name of the next student in the list referred to by `AllGroups[group]`."
   ]
  },
  {
   "cell_type": "markdown",
   "metadata": {},
   "source": [
    "The order of the four lines of code above is very important. Consider what would happen if you put the `print(group)` line within the second `for` loop. You can even give it a try and see if your hypothesis was right."
   ]
  },
  {
   "cell_type": "markdown",
   "metadata": {},
   "source": [
    "#### _Exercise 3.2_"
   ]
  },
  {
   "cell_type": "markdown",
   "metadata": {},
   "source": [
    "As mentioned before, there are a couple of problems with the output that we are getting from the code block above. Try to find a way to make the names of the groups stand out a bit more from the names of the students.  \n",
    "After you have achieved that, see if you can find a way to explicitly control the order in which the groups are displayed, so that they appear alphabetically - Group A, Group B, Group C."
   ]
  },
  {
   "cell_type": "code",
   "execution_count": 26,
   "metadata": {},
   "outputs": [
    {
     "name": "stdout",
     "output_type": "stream",
     "text": [
      "GROUP A\n",
      "Sarah\n",
      "Richard\n",
      "Matthew\n",
      "Fiona\n",
      "Sally\n",
      "Samuel\n",
      "GROUP B\n",
      "Richard\n",
      "Sally\n",
      "Sandy\n",
      "Peter\n",
      "Rebecca\n",
      "Steve\n",
      "Lesley\n",
      "Stuart\n",
      "GROUP C\n",
      "Simon\n",
      "Laura\n",
      "Gareth\n",
      "Alan\n",
      "Helen\n"
     ]
    }
   ],
   "source": [
    "for group in AllGroups.keys():\n",
    "    print(group.upper())\n",
    "    for student in AllGroups[group]:\n",
    "        print(student)"
   ]
  },
  {
   "cell_type": "code",
   "execution_count": 27,
   "metadata": {},
   "outputs": [
    {
     "name": "stdout",
     "output_type": "stream",
     "text": [
      "\n",
      "GROUP A\n",
      "Sarah\n",
      "Richard\n",
      "Matthew\n",
      "Fiona\n",
      "Sally\n",
      "Samuel\n",
      "\n",
      "GROUP B\n",
      "Richard\n",
      "Sally\n",
      "Sandy\n",
      "Peter\n",
      "Rebecca\n",
      "Steve\n",
      "Lesley\n",
      "Stuart\n",
      "\n",
      "GROUP C\n",
      "Simon\n",
      "Laura\n",
      "Gareth\n",
      "Alan\n",
      "Helen\n"
     ]
    }
   ],
   "source": [
    "for group in AllGroups.keys():\n",
    "    print()\n",
    "    print(group.upper())\n",
    "    for student in AllGroups[group]:\n",
    "        print(student)"
   ]
  },
  {
   "cell_type": "code",
   "execution_count": 28,
   "metadata": {},
   "outputs": [
    {
     "name": "stdout",
     "output_type": "stream",
     "text": [
      "\n",
      "GROUP A\n",
      "Sarah\n",
      "Richard\n",
      "Matthew\n",
      "Fiona\n",
      "Sally\n",
      "Samuel\n",
      "\n",
      "GROUP B\n",
      "Richard\n",
      "Sally\n",
      "Sandy\n",
      "Peter\n",
      "Rebecca\n",
      "Steve\n",
      "Lesley\n",
      "Stuart\n",
      "\n",
      "GROUP C\n",
      "Simon\n",
      "Laura\n",
      "Gareth\n",
      "Alan\n",
      "Helen\n"
     ]
    }
   ],
   "source": [
    "groups = list(AllGroups.keys())\n",
    "groups.sort()\n",
    "for group in groups:\n",
    "    print()\n",
    "    print(group.upper())\n",
    "    for student in AllGroups[group]:\n",
    "        print(student)"
   ]
  },
  {
   "cell_type": "code",
   "execution_count": 29,
   "metadata": {},
   "outputs": [
    {
     "name": "stdout",
     "output_type": "stream",
     "text": [
      "<class 'list'>\n",
      "\n",
      "GROUP A\n",
      "Fiona\n",
      "Matthew\n",
      "Richard\n",
      "Sally\n",
      "Samuel\n",
      "Sarah\n",
      "\n",
      "GROUP B\n",
      "Lesley\n",
      "Peter\n",
      "Rebecca\n",
      "Richard\n",
      "Sally\n",
      "Sandy\n",
      "Steve\n",
      "Stuart\n",
      "\n",
      "GROUP C\n",
      "Alan\n",
      "Gareth\n",
      "Helen\n",
      "Laura\n",
      "Simon\n"
     ]
    }
   ],
   "source": [
    "groups = sorted(AllGroups.keys())\n",
    "print(type(groups))\n",
    "for group in groups:\n",
    "    print()\n",
    "    print(group.upper())\n",
    "    for student in sorted(AllGroups[group]):\n",
    "        print(student)"
   ]
  },
  {
   "cell_type": "markdown",
   "metadata": {},
   "source": [
    "#### More Nesting"
   ]
  },
  {
   "cell_type": "markdown",
   "metadata": {},
   "source": [
    "There is one more type of nested data structure that we need to consider. To help with this, we need to expand the dataset slightly. Being the diligent and conscientious tutor that you are, you spent hours preparing, running and marking an assessment for each seminar group. You have collected the results, which are given below:"
   ]
  },
  {
   "cell_type": "markdown",
   "metadata": {},
   "source": [
    "__Group A__  \n",
    "\n",
    "| Student | Mark |\n",
    "|---------|------|\n",
    "| Sarah   | 78   |\n",
    "| Richard | 65   |\n",
    "| Matthew | 53   |\n",
    "| Fiona   | 71   |\n",
    "| Sally   | 43   |\n",
    "| Samuel  | 80   |\n",
    "\n",
    "__Group B__  \n",
    "\n",
    "| Student | Mark |\n",
    "|---------|------|\n",
    "| Richard | 57   |\n",
    "| Sally   | 89   |\n",
    "| Sandy   | 75   |\n",
    "| Peter   | 77   |\n",
    "| Rebecca | 62   |\n",
    "| Steve   | 71   |\n",
    "| Lesley  | 75   |\n",
    "| Stuart  | 80   |\n",
    "\n",
    "__Group C__  \n",
    "\n",
    "| Student | Mark |\n",
    "|---------|------|\n",
    "| Simon   | 47   |\n",
    "| Laura   | 91   |\n",
    "| Gareth  | 74   |\n",
    "| Alan    | 61   |\n",
    "| Helen   | 74   |\n"
   ]
  },
  {
   "cell_type": "markdown",
   "metadata": {},
   "source": [
    "Now, we have pairs of data for each group - the student's name and their mark. We want to store this data in a way that keeps all of the results together for all of the groups, but allows the data for each group and individual student to be accessed independently. If you first consider the groups individually - pairs of names and marks - this type of dataset is clearly best represented as a dictionary. And, for the reasons discussed before, we know that storing each group and it's data in a dictionary that can be accessed by the name of the group is a good idea too. So, to store all of this information we want to build a dictionary of dictionaries. First, let's create our individual dictionaries for each group."
   ]
  },
  {
   "cell_type": "markdown",
   "metadata": {},
   "source": [
    "__Note__ If you're not working interactively with the IPython Notebook version of this workbook, you could be about to do a lot of typing to enter all this data yourself. To save you the trouble, the data is available as a file from [GitHub](https://git.embl.de/grp-bio-it/ITPP/blob/master/seminarGroupMarks.txt). However, we won't cover how to read data from a file until the next worksheet. So for now, you can either skip ahead to find out how to do it (but make sure that you come back later!), read through and try to follow along without typing everything in yourself (you might find it difficult to understand exactly what's going on this way), or type/copy the whole lot. Sorry!"
   ]
  },
  {
   "cell_type": "code",
   "execution_count": 30,
   "metadata": {},
   "outputs": [],
   "source": [
    "GroupA_Results = { 'Sarah'  : 78 ,\n",
    "                   'Richard': 65 ,\n",
    "                   'Matthew': 53 ,\n",
    "                   'Fiona'  : 71 ,\n",
    "                   'Sally'  : 43 ,\n",
    "                   'Samuel' : 80 }\n",
    "GroupB_Results = { 'Richard': 57 ,\n",
    "                   'Sally'  : 89 ,\n",
    "                   'Sandy'  : 65 ,\n",
    "                   'Peter'  : 77 ,\n",
    "                   'Rebecca': 62 ,\n",
    "                   'Steve'  : 71 ,\n",
    "                   'Lesley' : 75 ,\n",
    "                   'Stuart' : 80 }\n",
    "GroupC_Results = { 'Simon'  : 47 ,\n",
    "                   'Laura'  : 91 ,\n",
    "                   'Gareth' : 74 ,\n",
    "                   'Alan'   : 61 ,\n",
    "                   'Helen'  : 74 }"
   ]
  },
  {
   "cell_type": "markdown",
   "metadata": {},
   "source": [
    "Now, we can create a top-level dictionary with three entries &mdash; one for each group. The keys are the names of the groups, and the associated values the dictionary of results for the students in the groups."
   ]
  },
  {
   "cell_type": "code",
   "execution_count": 31,
   "metadata": {},
   "outputs": [],
   "source": [
    "AllGroupResults = { 'Group A' : GroupA_Results ,\n",
    "                    'Group B' : GroupB_Results ,\n",
    "                    'Group C' : GroupC_Results }"
   ]
  },
  {
   "cell_type": "markdown",
   "metadata": {},
   "source": [
    "All of the assessment results are stored in a single dictionary. You can access the results for a particular group quite easily, using the approach introduced earlier:"
   ]
  },
  {
   "cell_type": "code",
   "execution_count": 32,
   "metadata": {
    "collapsed": false,
    "jupyter": {
     "outputs_hidden": false
    }
   },
   "outputs": [
    {
     "data": {
      "text/plain": [
       "{'Simon': 47, 'Laura': 91, 'Gareth': 74, 'Alan': 61, 'Helen': 74}"
      ]
     },
     "execution_count": 32,
     "metadata": {},
     "output_type": "execute_result"
    }
   ],
   "source": [
    "AllGroupResults['Group C']"
   ]
  },
  {
   "cell_type": "markdown",
   "metadata": {},
   "source": [
    "But what if you want to know how a particular student scored? How can we access the value for a particular key in the dictionary that is itself the value associated with a key at the top level? Well, above we accessed the value associated with the key `'Group C'` using the syntax `dictionary[key]`. In this case, we know that that returns another dictionary. So, if we now want to get the score for a particular student in that group, we just query that dictionary in the same way."
   ]
  },
  {
   "cell_type": "code",
   "execution_count": 33,
   "metadata": {
    "collapsed": false,
    "jupyter": {
     "outputs_hidden": false
    }
   },
   "outputs": [
    {
     "data": {
      "text/plain": [
       "91"
      ]
     },
     "execution_count": 33,
     "metadata": {},
     "output_type": "execute_result"
    }
   ],
   "source": [
    "AllGroupResults['Group C']['Laura']\n",
    "s.lower().count('the')"
   ]
  },
  {
   "cell_type": "markdown",
   "metadata": {},
   "source": [
    "If this looks strange to you, or you're struggling to make sense of it, remember that Python will interpret the line from left to right:  \n",
    "- first, it comes across the variable `AllGroupResults`, which it identifies as a dictionary  \n",
    "- then, it sees that you want to extract the value associated with the key `'Group C'`  \n",
    "- it fetches that value, `AllGroupResults['Group C']`, and identifies it as a dictionary, too  \n",
    "- then it moves on to the last part of the line, `['Laura']`, and recognises that you want to extract the value associated with the key `'Laura'` in the dictionary given by `AllGroupResults['Group C']`  \n",
    "- finally, it fetches that value and returns it."
   ]
  },
  {
   "cell_type": "markdown",
   "metadata": {},
   "source": [
    "#### _Exercise 3.3_"
   ]
  },
  {
   "cell_type": "markdown",
   "metadata": {},
   "source": [
    "Using what you've learned above about iterating over nested data structures, write a program that will loop through every student in every group and print out their mark. Make sure that you can identify in the output of your program, the group that each student name has come from.  \n",
    "Once you have acheived this, try changing the behaviour of your program to calculate and output the (mean) average mark for each group."
   ]
  },
  {
   "cell_type": "code",
   "execution_count": 37,
   "metadata": {},
   "outputs": [
    {
     "name": "stdout",
     "output_type": "stream",
     "text": [
      "\n",
      "Results for Group A\n",
      "Sarah:\t78\n",
      "Richard:\t65\n",
      "Matthew:\t53\n",
      "Fiona:\t71\n",
      "Sally:\t43\n",
      "Samuel:\t80\n",
      "\n",
      "Results for Group B\n",
      "Richard:\t57\n",
      "Sally:\t89\n",
      "Sandy:\t65\n",
      "Peter:\t77\n",
      "Rebecca:\t62\n",
      "Steve:\t71\n",
      "Lesley:\t75\n",
      "Stuart:\t80\n",
      "\n",
      "Results for Group C\n",
      "Simon:\t47\n",
      "Laura:\t91\n",
      "Gareth:\t74\n",
      "Alan:\t61\n",
      "Helen:\t74\n"
     ]
    }
   ],
   "source": [
    "for group in AllGroupResults:\n",
    "    print()\n",
    "    print('Results for {}'.format(group))\n",
    "    for student in AllGroupResults[group]:\n",
    "        print('{}:\\t{}'.format(student, AllGroupResults[group][student]))"
   ]
  },
  {
   "cell_type": "code",
   "execution_count": 38,
   "metadata": {},
   "outputs": [
    {
     "name": "stdout",
     "output_type": "stream",
     "text": [
      "\n",
      "Results for Group A\n",
      "Sarah:\t78\n",
      "Richard:\t65\n",
      "Matthew:\t53\n",
      "Fiona:\t71\n",
      "Sally:\t43\n",
      "Samuel:\t80\n",
      "Mean score for Group A: 65.0\n",
      "\n",
      "Results for Group B\n",
      "Richard:\t57\n",
      "Sally:\t89\n",
      "Sandy:\t65\n",
      "Peter:\t77\n",
      "Rebecca:\t62\n",
      "Steve:\t71\n",
      "Lesley:\t75\n",
      "Stuart:\t80\n",
      "Mean score for Group B: 72.0\n",
      "\n",
      "Results for Group C\n",
      "Simon:\t47\n",
      "Laura:\t91\n",
      "Gareth:\t74\n",
      "Alan:\t61\n",
      "Helen:\t74\n",
      "Mean score for Group C: 69.4\n"
     ]
    }
   ],
   "source": [
    "for group in AllGroupResults:\n",
    "    print()\n",
    "    print('Results for {}'.format(group))\n",
    "    for student in AllGroupResults[group]:\n",
    "        print('{}:\\t{}'.format(student, AllGroupResults[group][student]))\n",
    "    group_scores = list(AllGroupResults[group].values())\n",
    "    mean_score = sum(group_scores) / len(group_scores)\n",
    "    print('Mean score for {}: {}'.format(group, mean_score))"
   ]
  },
  {
   "cell_type": "markdown",
   "metadata": {},
   "source": [
    "#### Scaling Up"
   ]
  },
  {
   "cell_type": "markdown",
   "metadata": {},
   "source": [
    "Being able to store and access data in a suitable structure is all well and good, but the benefits of it become more obvious when you have a repetitive task that you need to complete. This is especially true when you consider this kind of problem applied to a dataset much larger than the toy examples that we are working with here. What if you ran a whole faculty, with tens of different seminar groups, containing hundreds of students, who each take multiple exams/assesments?!"
   ]
  },
  {
   "cell_type": "markdown",
   "metadata": {},
   "source": [
    "In this kind of situation, manual entry of the data isn't practical. Instead, it is much more helpful to be able to read the information that you need from a file. Working with input from other sources, and output of results, will be covered in the next worksheet."
   ]
  },
  {
   "cell_type": "markdown",
   "metadata": {},
   "source": [
    "#### _Exercise 3.4_"
   ]
  },
  {
   "cell_type": "markdown",
   "metadata": {},
   "source": [
    "The exercises in the next worksheet are designed to be more challenging for newcomers to programming/Python. In preparation for this, here is one last exercise designed to consolidate the things that you have learned so far.  \n",
    "Now that you have finished marking your students' assessments, you need to let them know how they got on. Write a program that will print out the body of an email to each student according to this template:\n",
    "\n",
    "Dear _[name]_,  \n",
    "I have finished marking the assessment for your seminar group, _[group name]_. You scored _[their mark]_.  \n",
    "_[an additional comment according to their score (see below)]_  \n",
    "Kind regards,  \n",
    "_[your name]_\n",
    "\n",
    "The additional comment on the third line of the email should be chosen according to the mark that they scored on the assessment.  \n",
    "\n",
    "| Score range | Comment                                                                |\n",
    "|-------------|------------------------------------------------------------------------|\n",
    "| <60:        | 'You must try harder next time. Are you taking this course seriously?' |\n",
    "| 60-79:      | 'Well done, that's a good score.'                                      |\n",
    "| >79:        | 'Congratulations! That's an excellent score!'                          |"
   ]
  },
  {
   "cell_type": "code",
   "execution_count": null,
   "metadata": {},
   "outputs": [],
   "source": [
    "for group in AllGroupResults:\n",
    "    print()\n",
    "    print('Results for {}'.format(group))\n",
    "    for student in AllGroupResults[group]:\n",
    "        print('{}:\\t{}'.format(student, AllGroupResults[group][student]))\n",
    "    group_scores = list(AllGroupResults[group].values())\n",
    "    mean_score = sum(group_scores) / len(group_scores)\n",
    "    print('Mean score for {}: {}'.format(group, mean_score))"
   ]
  },
  {
   "cell_type": "code",
   "execution_count": 41,
   "metadata": {},
   "outputs": [
    {
     "name": "stdout",
     "output_type": "stream",
     "text": [
      "Dear Sarah, \n",
      "I have finished marking the assessment for your seminar group, Group A. \n",
      "You scored 78. \n",
      "Well done, that's a good score.\n",
      "Kind regards,\n",
      "Toby\n",
      "\n",
      "Dear Richard, \n",
      "I have finished marking the assessment for your seminar group, Group A. \n",
      "You scored 65. \n",
      "Well done, that's a good score.\n",
      "Kind regards,\n",
      "Toby\n",
      "\n",
      "Dear Matthew, \n",
      "I have finished marking the assessment for your seminar group, Group A. \n",
      "You scored 53. \n",
      "You must try harder next time. Are you taking this course seriously?\n",
      "Kind regards,\n",
      "Toby\n",
      "\n",
      "Dear Fiona, \n",
      "I have finished marking the assessment for your seminar group, Group A. \n",
      "You scored 71. \n",
      "Well done, that's a good score.\n",
      "Kind regards,\n",
      "Toby\n",
      "\n",
      "Dear Sally, \n",
      "I have finished marking the assessment for your seminar group, Group A. \n",
      "You scored 43. \n",
      "You must try harder next time. Are you taking this course seriously?\n",
      "Kind regards,\n",
      "Toby\n",
      "\n",
      "Dear Samuel, \n",
      "I have finished marking the assessment for your seminar group, Group A. \n",
      "You scored 80. \n",
      "Congratulations! That's an excellent score!\n",
      "Kind regards,\n",
      "Toby\n",
      "\n",
      "Dear Richard, \n",
      "I have finished marking the assessment for your seminar group, Group B. \n",
      "You scored 57. \n",
      "You must try harder next time. Are you taking this course seriously?\n",
      "Kind regards,\n",
      "Toby\n",
      "\n",
      "Dear Sally, \n",
      "I have finished marking the assessment for your seminar group, Group B. \n",
      "You scored 89. \n",
      "Congratulations! That's an excellent score!\n",
      "Kind regards,\n",
      "Toby\n",
      "\n",
      "Dear Sandy, \n",
      "I have finished marking the assessment for your seminar group, Group B. \n",
      "You scored 65. \n",
      "Well done, that's a good score.\n",
      "Kind regards,\n",
      "Toby\n",
      "\n",
      "Dear Peter, \n",
      "I have finished marking the assessment for your seminar group, Group B. \n",
      "You scored 77. \n",
      "Well done, that's a good score.\n",
      "Kind regards,\n",
      "Toby\n",
      "\n",
      "Dear Rebecca, \n",
      "I have finished marking the assessment for your seminar group, Group B. \n",
      "You scored 62. \n",
      "Well done, that's a good score.\n",
      "Kind regards,\n",
      "Toby\n",
      "\n",
      "Dear Steve, \n",
      "I have finished marking the assessment for your seminar group, Group B. \n",
      "You scored 71. \n",
      "Well done, that's a good score.\n",
      "Kind regards,\n",
      "Toby\n",
      "\n",
      "Dear Lesley, \n",
      "I have finished marking the assessment for your seminar group, Group B. \n",
      "You scored 75. \n",
      "Well done, that's a good score.\n",
      "Kind regards,\n",
      "Toby\n",
      "\n",
      "Dear Stuart, \n",
      "I have finished marking the assessment for your seminar group, Group B. \n",
      "You scored 80. \n",
      "Congratulations! That's an excellent score!\n",
      "Kind regards,\n",
      "Toby\n",
      "\n",
      "Dear Simon, \n",
      "I have finished marking the assessment for your seminar group, Group C. \n",
      "You scored 47. \n",
      "You must try harder next time. Are you taking this course seriously?\n",
      "Kind regards,\n",
      "Toby\n",
      "\n",
      "Dear Laura, \n",
      "I have finished marking the assessment for your seminar group, Group C. \n",
      "You scored 91. \n",
      "Congratulations! That's an excellent score!\n",
      "Kind regards,\n",
      "Toby\n",
      "\n",
      "Dear Gareth, \n",
      "I have finished marking the assessment for your seminar group, Group C. \n",
      "You scored 74. \n",
      "Well done, that's a good score.\n",
      "Kind regards,\n",
      "Toby\n",
      "\n",
      "Dear Alan, \n",
      "I have finished marking the assessment for your seminar group, Group C. \n",
      "You scored 61. \n",
      "Well done, that's a good score.\n",
      "Kind regards,\n",
      "Toby\n",
      "\n",
      "Dear Helen, \n",
      "I have finished marking the assessment for your seminar group, Group C. \n",
      "You scored 74. \n",
      "Well done, that's a good score.\n",
      "Kind regards,\n",
      "Toby\n",
      "\n"
     ]
    }
   ],
   "source": [
    "my_name = 'Toby'\n",
    "\n",
    "def get_feedback_message(score):\n",
    "    if score < 60:\n",
    "        return 'You must try harder next time. Are you taking this course seriously?'\n",
    "    elif 60 <= score <= 79:\n",
    "        return \"Well done, that's a good score.\"\n",
    "    else:\n",
    "        return \"Congratulations! That's an excellent score!\"\n",
    "\n",
    "template = '''Dear {}, \n",
    "I have finished marking the assessment for your seminar group, {}. \n",
    "You scored {}. \n",
    "{}\n",
    "Kind regards,\n",
    "{}'''\n",
    "for group in AllGroupResults:\n",
    "    for student in AllGroupResults[group]:\n",
    "        score = AllGroupResults[group][student]\n",
    "        print(template.format(student, \n",
    "                              group, \n",
    "                              score, \n",
    "                              get_feedback_message(score), \n",
    "                              my_name))\n",
    "        print()"
   ]
  },
  {
   "cell_type": "markdown",
   "metadata": {},
   "source": [
    "Of course, the potential for nested data structures doesn't stop at two-level lists of lists, or lists of dictionaries, or dictionaries of lists, or dictionaries of dictionaries! Depending on the situation, you might want to combine some of the other different structure types (which we don't cover so much here), build up three- or four-level structures, and so on. Be warned, though: with every additional layer, your program becomes more and more complicated. This makes it harder for you to keep track of what you're dealing with while you're writing it, harder to read when you or someone else comes back to the program at a later date, and more difficult to identify and correct mistakes in the code itself."
   ]
  },
  {
   "cell_type": "markdown",
   "metadata": {},
   "source": [
    "#### Summary"
   ]
  },
  {
   "cell_type": "markdown",
   "metadata": {},
   "source": [
    "* The elements of data types like lists or dictionaries can themselves be things like lists or tuples or dictionaries, allowing arbitrarily complex data structures to be built up.\n",
    "* `for` loops can be nested in order to access every entry in these complex structures.\n",
    "* Individual entries can be accessed by stacking up indices/keys, which Python interprets one at a time, from left to right.\n",
    "* The values of variables can be inserted into strings, with their format controlled, using the `.format()` string method."
   ]
  },
  {
   "cell_type": "markdown",
   "metadata": {},
   "source": [
    "#### _Debugging Exercise_"
   ]
  },
  {
   "cell_type": "markdown",
   "metadata": {},
   "source": [
    "In this exercise, you are presented with some code that doesn't work as it should. Your task is to debug it."
   ]
  },
  {
   "cell_type": "code",
   "execution_count": 53,
   "metadata": {},
   "outputs": [
    {
     "name": "stdout",
     "output_type": "stream",
     "text": [
      "The score of Sarah is 20\n",
      "The score of Richard is 30\n",
      "The score of Matthew is 40\n",
      "The score of Fiona is 50\n",
      "The score of Sally is 60\n",
      "The score of Samuel is 70\n"
     ]
    }
   ],
   "source": [
    "# You start with a group of students and scores and you \n",
    "# would like to print the name and the score of each.\n",
    "# Can you spot and fix the errors?\n",
    "# Hint: Each line contains at least one error/mistake\n",
    "\n",
    "group = {'Sarah':20, 'Richard':30, 'Matthew':40, 'Fiona':50, 'Sally':60, 'Samuel':70}\n",
    "\n",
    "for student in group:\n",
    "    print(\"The score of {} is {}\".format(student, group[student]))\n"
   ]
  }
 ],
 "metadata": {
  "kernelspec": {
   "display_name": "Python 3",
   "language": "python",
   "name": "python3"
  },
  "language_info": {
   "codemirror_mode": {
    "name": "ipython",
    "version": 3
   },
   "file_extension": ".py",
   "mimetype": "text/x-python",
   "name": "python",
   "nbconvert_exporter": "python",
   "pygments_lexer": "ipython3",
   "version": "3.8.1"
  }
 },
 "nbformat": 4,
 "nbformat_minor": 4
}
